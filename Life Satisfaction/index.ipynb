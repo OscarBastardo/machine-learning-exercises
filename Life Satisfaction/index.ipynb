{
 "cells": [
  {
   "cell_type": "markdown",
   "metadata": {
    "slideshow": {
     "slide_type": "-"
    }
   },
   "source": [
    "# Infer life satisfaction index of Cyprus \n",
    "#### in 2015 using OECD and World Bank data\n",
    "Bear in mind this is non-representative data, which means the prediction won't be very accurate."
   ]
  },
  {
   "cell_type": "code",
   "execution_count": 1,
   "metadata": {},
   "outputs": [],
   "source": [
    "import matplotlib\n",
    "import matplotlib.pyplot as plt\n",
    "import numpy as np\n",
    "import pandas as pd\n",
    "import sklearn.linear_model"
   ]
  },
  {
   "cell_type": "code",
   "execution_count": 24,
   "metadata": {},
   "outputs": [],
   "source": [
    "# load the data\n",
    "oecd_bli_2015 = pd.read_csv('oecd_bli_2015.csv')\n",
    "gdp_per_capita = pd.read_csv('world_bank_gdp_per_capita.csv')\n",
    "\n",
    "# inference data\n",
    "gdp_cyprus = gdp_per_capita[gdp_per_capita['Country Name'] == 'Cyprus']['2015'].values"
   ]
  },
  {
   "cell_type": "code",
   "execution_count": 9,
   "metadata": {},
   "outputs": [
    {
     "data": {
      "text/plain": [
       "51    23212.224702\n",
       "Name: 2015, dtype: float64"
      ]
     },
     "execution_count": 9,
     "metadata": {},
     "output_type": "execute_result"
    }
   ],
   "source": [
    "# prepare the data\n",
    "life_satisfaction_2015 = oecd_bli_2015[oecd_bli_2015['Indicator'] == 'Life satisfaction'].groupby('LOCATION', as_index=False).mean()[['LOCATION', 'Value']].rename(columns={'LOCATION': 'Country Code', 'Value': 'Life satisfaction'})\n",
    "gdp_per_capita_2015 = gdp_per_capita[['Country Code', '2015']].rename(columns={'2015': 'GDP per capita'})\n",
    "country_stats = pd.merge(life_satisfaction_2015, gdp_per_capita_2015)\n",
    "\n",
    "X = np.c_[country_stats[\"GDP per capita\"]]\n",
    "y = np.c_[country_stats[\"Life satisfaction\"]]"
   ]
  },
  {
   "cell_type": "code",
   "execution_count": 4,
   "metadata": {},
   "outputs": [
    {
     "data": {
      "image/png": "[encoded data removed]",
      "text/plain": [
       "<Figure size 432x288 with 1 Axes>"
      ]
     },
     "metadata": {},
     "output_type": "display_data"
    }
   ],
   "source": [
    "# visualize the data\n",
    "country_stats.plot(kind='scatter', x='GDP per capita', y='Life satisfaction', title='OECD Stats 2015')\n",
    "plt.show()"
   ]
  },
  {
   "cell_type": "code",
   "execution_count": 5,
   "metadata": {},
   "outputs": [],
   "source": [
    "# Select a linear model\n",
    "lin_reg_model = sklearn.linear_model.LinearRegression()"
   ]
  },
  {
   "cell_type": "code",
   "execution_count": 6,
   "metadata": {},
   "outputs": [
    {
     "data": {
      "text/plain": [
       "LinearRegression(copy_X=True, fit_intercept=True, n_jobs=1, normalize=False)"
      ]
     },
     "execution_count": 6,
     "metadata": {},
     "output_type": "execute_result"
    }
   ],
   "source": [
    "# Train the model\n",
    "lin_reg_model.fit(X, y)"
   ]
  },
  {
   "cell_type": "code",
   "execution_count": 25,
   "metadata": {},
   "outputs": [
    {
     "name": "stdout",
     "output_type": "stream",
     "text": [
      "[[6.26533818]]\n"
     ]
    }
   ],
   "source": [
    "# Make a prediction for Cyprus\n",
    "X_new = [gdp_cyprus]\n",
    "print(lin_reg_model.predict(X_new))"
   ]
  }
 ],
 "metadata": {
  "kernelspec": {
   "display_name": "Python 3",
   "language": "python",
   "name": "python3"
  },
  "language_info": {
   "codemirror_mode": {
    "name": "ipython",
    "version": 3
   },
   "file_extension": ".py",
   "mimetype": "text/x-python",
   "name": "python",
   "nbconvert_exporter": "python",
   "pygments_lexer": "ipython3",
   "version": "3.6.2"
  }
 },
 "nbformat": 4,
 "nbformat_minor": 2
}
